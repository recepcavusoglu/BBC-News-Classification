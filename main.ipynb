{
 "cells": [
  {
   "cell_type": "markdown",
   "id": "fundamental-access",
   "metadata": {},
   "source": [
    "# Text Classification Using Machine Learning\n",
    "I classified BBC news articles using [Support Vector Machines](https://en.wikipedia.org/wiki/Support-vector_machine) and [Naive Bayes](https://en.wikipedia.org/wiki/Naive_Bayes_classifier).\n",
    "   \n",
    "### Libaries that i use;\n",
    "- numpy\n",
    "- pandas\n",
    "- seaborn\n",
    "- matplotlib\n",
    "- nltk\n",
    "- re\n",
    "- sklearn\n",
    "- gensim\n"
   ]
  },
  {
   "cell_type": "code",
   "execution_count": 1,
   "id": "communist-paraguay",
   "metadata": {},
   "outputs": [],
   "source": [
    "import numpy as np\n",
    "import pandas as pd\n",
    "import seaborn as sns\n",
    "import matplotlib.pyplot as plt\n",
    "import nltk\n",
    "import re\n",
    "\n",
    "from sklearn.model_selection import GridSearchCV\n",
    "from sklearn.model_selection import train_test_split\n",
    "from sklearn.naive_bayes import GaussianNB\n",
    "from sklearn.svm import SVC\n",
    "from sklearn.pipeline import Pipeline\n",
    "from sklearn import metrics\n",
    "\n",
    "from gensim.models import Word2Vec  "
   ]
  },
  {
   "cell_type": "code",
   "execution_count": 2,
   "id": "headed-understanding",
   "metadata": {},
   "outputs": [],
   "source": [
    "#nltk.download('punkt')\n",
    "#nltk.download('stopwords')\n",
    "#nltk.download('wordnet')"
   ]
  },
  {
   "cell_type": "markdown",
   "id": "armed-analysis",
   "metadata": {},
   "source": [
    "[Natural Language Toolkit or nltk](https://en.wikipedia.org/wiki/Natural_Language_Toolkit) is a suite of libraries and programs for symbolic and statistical natural language processing for English written in the Python programming language.\n",
    "- **punkt**: This tokenizer divides a text into a list of sentences by using an unsupervised algorithm to build a model for abbreviation words, collocations, and words that start sentences.\n",
    "- **stopwords**: Stopwords are the English words which does not add much meaning to a sentence. They can safely be ignored without sacrificing the meaning of the sentence. For example, the words like the, he, have etc.\n",
    "- **wordnet**: The WordNet is a part of Python's Natural Language Toolkit. It is a large word database of English Nouns, Adjectives, Adverbs and Verbs.\n",
    "\n",
    "We are commenting these because we already have these datasets. If you dont have these you should run these for first time."
   ]
  },
  {
   "cell_type": "code",
   "execution_count": 3,
   "id": "deadly-metadata",
   "metadata": {},
   "outputs": [
    {
     "data": {
      "text/plain": [
       "<AxesSubplot:xlabel='category', ylabel='count'>"
      ]
     },
     "execution_count": 3,
     "metadata": {},
     "output_type": "execute_result"
    },
    {
     "data": {
      "image/png": "[encoded data removed]",
      "text/plain": [
       "<Figure size 432x288 with 1 Axes>"
      ]
     },
     "metadata": {
      "needs_background": "light"
     },
     "output_type": "display_data"
    }
   ],
   "source": [
    "df=pd.read_csv(\"bbc-text.csv\")\n",
    "sns.countplot(x=df.category)"
   ]
  },
  {
   "cell_type": "markdown",
   "id": "falling-programmer",
   "metadata": {},
   "source": [
    "We load the dataset as pandas dataframe and visualize category distrubution using seaborn. Since the data balanced we can start  data preprocessing."
   ]
  },
  {
   "cell_type": "code",
   "execution_count": 4,
   "id": "binary-baltimore",
   "metadata": {},
   "outputs": [],
   "source": [
    "def Data_Preprocess(p_df):\n",
    "    print('Data Preprocess started...')\n",
    "\n",
    "    p_df['text_clean'] = p_df['text'].apply(nltk.word_tokenize)\n",
    "    print('Tokenization completed.')\n",
    "\n",
    "    stop_words=set(nltk.corpus.stopwords.words(\"english\"))\n",
    "    p_df['text_clean'] = p_df['text_clean'].apply(lambda x: [item for item in x if item not in stop_words])\n",
    "    print('Stop words removed.')\n",
    "\n",
    "    regex = '[a-z]+'\n",
    "    p_df['text_clean'] = p_df['text_clean'].apply(lambda x: [item for item in x if re.match(regex, item)])\n",
    "    print('Numbers, punctuation and special characters removed.')\n",
    "\n",
    "    lem = nltk.stem.wordnet.WordNetLemmatizer()\n",
    "    p_df['text_clean'] = p_df['text_clean'].apply(lambda x: [lem.lemmatize(item, pos='v') for item in x])\n",
    "    print('Lemmatization completed.')\n",
    "    print('Data cleaning completed.\\n')\n",
    "    \n",
    "    print(p_df)\n",
    "    return p_df"
   ]
  },
  {
   "cell_type": "markdown",
   "id": "innovative-modern",
   "metadata": {},
   "source": [
    "As preprocessing we have three main operation;\n",
    "- Divide sentences into words\n",
    "- Removed stop words, numbers, punctuation, special characters\n",
    "- Lemmatization(Lemma means base form of a word.)"
   ]
  },
  {
   "cell_type": "code",
   "execution_count": 5,
   "id": "heavy-tobago",
   "metadata": {},
   "outputs": [
    {
     "name": "stdout",
     "output_type": "stream",
     "text": [
      "Data Preprocess started...\n",
      "Tokenization completed.\n",
      "Stop words removed.\n",
      "Numbers, punctuation and special characters removed.\n",
      "Lemmatization completed.\n",
      "Data cleaning completed.\n",
      "\n",
      "           category                                               text  \\\n",
      "0              tech  tv future in the hands of viewers with home th...   \n",
      "1          business  worldcom boss  left books alone  former worldc...   \n",
      "2             sport  tigers wary of farrell  gamble  leicester say ...   \n",
      "3             sport  yeading face newcastle in fa cup premiership s...   \n",
      "4     entertainment  ocean s twelve raids box office ocean s twelve...   \n",
      "...             ...                                                ...   \n",
      "2220       business  cars pull down us retail figures us retail sal...   \n",
      "2221       politics  kilroy unveils immigration policy ex-chatshow ...   \n",
      "2222  entertainment  rem announce new glasgow concert us band rem h...   \n",
      "2223       politics  how political squabbles snowball it s become c...   \n",
      "2224          sport  souness delight at euro progress boss graeme s...   \n",
      "\n",
      "                                             text_clean  \n",
      "0     [tv, future, hand, viewers, home, theatre, sys...  \n",
      "1     [worldcom, boss, leave, book, alone, former, w...  \n",
      "2     [tigers, wary, farrell, gamble, leicester, say...  \n",
      "3     [yeading, face, newcastle, fa, cup, premiershi...  \n",
      "4     [ocean, twelve, raid, box, office, ocean, twel...  \n",
      "...                                                 ...  \n",
      "2220  [cars, pull, us, retail, figure, us, retail, s...  \n",
      "2221  [kilroy, unveil, immigration, policy, ex-chats...  \n",
      "2222  [rem, announce, new, glasgow, concert, us, ban...  \n",
      "2223  [political, squabble, snowball, become, common...  \n",
      "2224  [souness, delight, euro, progress, boss, graem...  \n",
      "\n",
      "[2225 rows x 3 columns]\n"
     ]
    }
   ],
   "source": [
    "df=Data_Preprocess(df)"
   ]
  },
  {
   "cell_type": "code",
   "execution_count": 6,
   "id": "second-vector",
   "metadata": {},
   "outputs": [],
   "source": [
    "vec_model = Word2Vec(df['text_clean'])\n",
    "w2v = dict(zip(vec_model.wv.index2word, vec_model.wv.vectors))"
   ]
  },
  {
   "cell_type": "markdown",
   "id": "emerging-harvard",
   "metadata": {},
   "source": [
    "We are training our gensim Word2Vec model. This gives us a dictionary that includes every word in our cleaned dataset."
   ]
  },
  {
   "cell_type": "code",
   "execution_count": 7,
   "id": "dominant-wonder",
   "metadata": {},
   "outputs": [],
   "source": [
    "class Vectorizer(object):\n",
    "    def __init__(self, vec):\n",
    "        self.vec = vec\n",
    "        self.dim = len(vec.values())\n",
    "        \n",
    "    def fit(self, X, y):\n",
    "        return self\n",
    "    \n",
    "    def transform(self, X):\n",
    "        return np.array([np.mean([self.vec[w] for w in words if w in self.vec] or [np.zeros(self.dim)], axis=0) for words in X])\n",
    "    "
   ]
  },
  {
   "cell_type": "markdown",
   "id": "incorporated-offering",
   "metadata": {},
   "source": [
    "Vectorizer to use in classifier."
   ]
  },
  {
   "cell_type": "code",
   "execution_count": 8,
   "id": "personal-radar",
   "metadata": {},
   "outputs": [],
   "source": [
    "class Classifier(object):\n",
    "    def __init__(self, model, param):\n",
    "        self.model = model\n",
    "        self.param = param\n",
    "        self.gsearch = GridSearchCV(self.model, self.param, cv=5, error_score=0, refit=True)\n",
    "        \n",
    "    def fit(self, X, y):\n",
    "        return self.gsearch.fit(X, y)\n",
    "    \n",
    "    def predict(self, X):\n",
    "        return self.gsearch.predict(X)"
   ]
  },
  {
   "cell_type": "markdown",
   "id": "abroad-project",
   "metadata": {},
   "source": [
    "We are creating our classifier for our pipeline."
   ]
  },
  {
   "cell_type": "code",
   "execution_count": 9,
   "id": "closing-taylor",
   "metadata": {},
   "outputs": [],
   "source": [
    "clf_models = {\n",
    "    'Naive Bayes': GaussianNB(),\n",
    "    'SVC': SVC()\n",
    "}\n",
    "\n",
    "clf_params = {\n",
    "    'Naive Bayes': {},\n",
    "    'SVC' : {'kernel': ['linear', 'rbf']}\n",
    "}"
   ]
  },
  {
   "cell_type": "markdown",
   "id": "tribal-slave",
   "metadata": {},
   "source": [
    "We have created our models and their parameters."
   ]
  },
  {
   "cell_type": "code",
   "execution_count": 10,
   "id": "turkish-despite",
   "metadata": {},
   "outputs": [],
   "source": [
    "X_train, X_test, y_train, y_test = train_test_split(df['text_clean'], df['category'], test_size=0.2, random_state=256)"
   ]
  },
  {
   "cell_type": "markdown",
   "id": "continent-technician",
   "metadata": {},
   "source": [
    "Dataset divied  as features and labels. Also splitted as %80 train and %20 test. Since we used random_state we can get the same train-test data always."
   ]
  },
  {
   "cell_type": "code",
   "execution_count": 11,
   "id": "thorough-remains",
   "metadata": {},
   "outputs": [],
   "source": [
    "accuracy={'Naive Bayes':0,'SVC':0}\n",
    "precision={'Naive Bayes':0,'SVC':0}\n",
    "f1={'Naive Bayes':0,'SVC':0}"
   ]
  },
  {
   "cell_type": "markdown",
   "id": "balanced-commerce",
   "metadata": {},
   "source": [
    "We created these dictionaries for saving different classification metric scores."
   ]
  },
  {
   "cell_type": "code",
   "execution_count": 12,
   "id": "aquatic-northeast",
   "metadata": {},
   "outputs": [
    {
     "data": {
      "image/png": "[encoded data removed]",
      "text/plain": [
       "<Figure size 432x288 with 2 Axes>"
      ]
     },
     "metadata": {
      "needs_background": "light"
     },
     "output_type": "display_data"
    },
    {
     "data": {
      "image/png": "[encoded data removed]",
      "text/plain": [
       "<Figure size 432x288 with 2 Axes>"
      ]
     },
     "metadata": {
      "needs_background": "light"
     },
     "output_type": "display_data"
    }
   ],
   "source": [
    "for key in clf_models.keys():    \n",
    "    clf = Pipeline([('Word2Vec', Vectorizer(w2v)), ('Classifier', Classifier(clf_models[key], clf_params[key]))])\n",
    "    # Fitting the data\n",
    "    clf.fit(X_train, y_train)\n",
    "    \n",
    "    y_pred = clf.predict(X_test)\n",
    "    \n",
    "    cnf_matrix=metrics.confusion_matrix(y_test,y_pred)\n",
    "    labels = [0, 1]\n",
    "    fig, ax = plt.subplots()\n",
    "    tick_marks = np.arange(len(labels))\n",
    "    plt.xticks(tick_marks, labels)\n",
    "    plt.yticks(tick_marks, labels)\n",
    "    sns.heatmap(pd.DataFrame(cnf_matrix), annot=True, cmap=\"YlGnBu\", fmt='g')\n",
    "    ax.xaxis.set_label_position(\"bottom\")\n",
    "    plt.title(key+' Confusion matrix')\n",
    "    plt.ylabel('True')\n",
    "    plt.xlabel('Predicted')\n",
    "    \n",
    "    accuracy[key]=metrics.accuracy_score(y_test,y_pred)\n",
    "    precision[key]=metrics.precision_score(y_test,y_pred,average='macro')\n",
    "    f1[key]=metrics.f1_score(y_test,y_pred,average='macro')"
   ]
  },
  {
   "cell_type": "markdown",
   "id": "honest-banana",
   "metadata": {},
   "source": [
    "We trained our different classifiers, calculated their classification metric scores and created our heatmaps."
   ]
  },
  {
   "cell_type": "code",
   "execution_count": 13,
   "id": "annual-demand",
   "metadata": {},
   "outputs": [
    {
     "name": "stdout",
     "output_type": "stream",
     "text": [
      "Accuracy:  {'Naive Bayes': 0.9258426966292135, 'SVC': 0.9415730337078652}\n",
      "Precision:  {'Naive Bayes': 0.9250568729516099, 'SVC': 0.9435233002291825}\n",
      "F1 Score:  {'Naive Bayes': 0.9249650159713854, 'SVC': 0.9412127638059063}\n"
     ]
    }
   ],
   "source": [
    "print(\"Accuracy: \", accuracy)\n",
    "print(\"Precision: \", precision)\n",
    "print(\"F1 Score: \", f1)"
   ]
  },
  {
   "cell_type": "markdown",
   "id": "surrounded-fellowship",
   "metadata": {},
   "source": [
    "Printing different classification metric scores."
   ]
  },
  {
   "cell_type": "code",
   "execution_count": 14,
   "id": "driven-increase",
   "metadata": {},
   "outputs": [],
   "source": [
    "def Plot(p_metric,p_values):    \n",
    "    columns=p_values.keys()\n",
    "    values=list(p_values.values())\n",
    "    y_pos = np.arange(len(columns))\n",
    "\n",
    "    plt.bar(y_pos, values, align='center', alpha=0.5,color=[\"red\",\"blue\"])\n",
    "    plt.xticks(y_pos, columns)\n",
    "    title=p_metric+' Score'\n",
    "    plt.title(title)\n",
    "    \n",
    "    plt.figtext(0.5, 0.001, str(p_values), ha=\"center\", fontsize=16)\n",
    "    plt.show()"
   ]
  },
  {
   "cell_type": "markdown",
   "id": "reliable-queue",
   "metadata": {},
   "source": [
    "Function to plot different metric scores."
   ]
  },
  {
   "cell_type": "code",
   "execution_count": 15,
   "id": "clean-lying",
   "metadata": {},
   "outputs": [
    {
     "data": {
      "image/png": "[encoded data removed]",
      "text/plain": [
       "<Figure size 432x288 with 1 Axes>"
      ]
     },
     "metadata": {
      "needs_background": "light"
     },
     "output_type": "display_data"
    },
    {
     "data": {
      "image/png": "[encoded data removed]",
      "text/plain": [
       "<Figure size 432x288 with 1 Axes>"
      ]
     },
     "metadata": {
      "needs_background": "light"
     },
     "output_type": "display_data"
    },
    {
     "data": {
      "image/png": "[encoded data removed]",
      "text/plain": [
       "<Figure size 432x288 with 1 Axes>"
      ]
     },
     "metadata": {
      "needs_background": "light"
     },
     "output_type": "display_data"
    }
   ],
   "source": [
    "Plot(\"f1\",f1)\n",
    "Plot(\"Accuracy\",accuracy)\n",
    "Plot(\"Precision\",precision)"
   ]
  },
  {
   "cell_type": "code",
   "execution_count": null,
   "id": "possible-analyst",
   "metadata": {},
   "outputs": [],
   "source": []
  }
 ],
 "metadata": {
  "kernelspec": {
   "display_name": "Python 3",
   "language": "python",
   "name": "python3"
  },
  "language_info": {
   "codemirror_mode": {
    "name": "ipython",
    "version": 3
   },
   "file_extension": ".py",
   "mimetype": "text/x-python",
   "name": "python",
   "nbconvert_exporter": "python",
   "pygments_lexer": "ipython3",
   "version": "3.8.7"
  }
 },
 "nbformat": 4,
 "nbformat_minor": 5
}
