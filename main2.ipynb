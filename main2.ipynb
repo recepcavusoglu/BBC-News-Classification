{
 "cells": [
  {
   "cell_type": "markdown",
   "id": "grateful-welcome",
   "metadata": {},
   "source": [
    "# Text Classification Using Machine Learning\n",
    "I classified BBC news articles using [Support Vector Machines](https://en.wikipedia.org/wiki/Support-vector_machine) and [Multinomial Naive Bayes](https://en.wikipedia.org/wiki/Naive_Bayes_classifier#Multinomial_na%C3%AFve_Bayes).\n",
    "   \n",
    "### Libaries that i use;\n",
    "- numpy\n",
    "- pandas\n",
    "- seaborn\n",
    "- matplotlib\n",
    "- nltk\n",
    "- sklearn"
   ]
  },
  {
   "cell_type": "code",
   "execution_count": 1,
   "id": "charming-mattress",
   "metadata": {},
   "outputs": [],
   "source": [
    "import pandas as pd\n",
    "import numpy as np\n",
    "import seaborn as sns\n",
    "import matplotlib.pyplot as plt\n",
    "\n",
    "from nltk import word_tokenize          \n",
    "from nltk.stem import WordNetLemmatizer\n",
    "\n",
    "from sklearn.model_selection import train_test_split\n",
    "from sklearn.feature_extraction.text import CountVectorizer\n",
    "from sklearn.naive_bayes import GaussianNB\n",
    "from sklearn.naive_bayes import MultinomialNB\n",
    "from sklearn.svm import SVC\n",
    "from sklearn import metrics"
   ]
  },
  {
   "cell_type": "code",
   "execution_count": 2,
   "id": "underlying-genealogy",
   "metadata": {},
   "outputs": [],
   "source": [
    "#nltk.download('punkt')\n",
    "#nltk.download('stopwords')\n",
    "#nltk.download('wordnet')"
   ]
  },
  {
   "cell_type": "markdown",
   "id": "understanding-cinema",
   "metadata": {},
   "source": [
    "[Natural Language Toolkit or nltk](https://en.wikipedia.org/wiki/Natural_Language_Toolkit) is a suite of libraries and programs for symbolic and statistical natural language processing for English written in the Python programming language.\n",
    "- **punkt**: This tokenizer divides a text into a list of sentences by using an unsupervised algorithm to build a model for abbreviation words, collocations, and words that start sentences.\n",
    "- **stopwords**: Stopwords are the English words which does not add much meaning to a sentence. They can safely be ignored without sacrificing the meaning of the sentence. For example, the words like the, he, have etc.\n",
    "- **wordnet**: The WordNet is a part of Python's Natural Language Toolkit. It is a large word database of English Nouns, Adjectives, Adverbs and Verbs.\n",
    "\n",
    "We are commenting these because we already have these datasets. If you dont have these you should run these for first time."
   ]
  },
  {
   "cell_type": "code",
   "execution_count": 3,
   "id": "equivalent-withdrawal",
   "metadata": {},
   "outputs": [
    {
     "name": "stdout",
     "output_type": "stream",
     "text": [
      "      category                                               text\n",
      "0            0  tv future in the hands of viewers with home th...\n",
      "1            1  worldcom boss  left books alone  former worldc...\n",
      "2            2  tigers wary of farrell  gamble  leicester say ...\n",
      "3            2  yeading face newcastle in fa cup premiership s...\n",
      "4            3  ocean s twelve raids box office ocean s twelve...\n",
      "...        ...                                                ...\n",
      "2220         1  cars pull down us retail figures us retail sal...\n",
      "2221         4  kilroy unveils immigration policy ex-chatshow ...\n",
      "2222         3  rem announce new glasgow concert us band rem h...\n",
      "2223         4  how political squabbles snowball it s become c...\n",
      "2224         2  souness delight at euro progress boss graeme s...\n",
      "\n",
      "[2225 rows x 2 columns]\n"
     ]
    },
    {
     "data": {
      "text/plain": [
       "<AxesSubplot:xlabel='category', ylabel='count'>"
      ]
     },
     "execution_count": 3,
     "metadata": {},
     "output_type": "execute_result"
    },
    {
     "data": {
      "image/png": "[encoded data removed]",
      "text/plain": [
       "<Figure size 432x288 with 1 Axes>"
      ]
     },
     "metadata": {
      "needs_background": "light"
     },
     "output_type": "display_data"
    }
   ],
   "source": [
    "bbc= pd.read_csv(\"bbc-text.csv\")\n",
    "bbc.category = bbc.category.map({'tech':0, 'business':1, 'sport':2, 'entertainment':3, 'politics':4})\n",
    "print(bbc)\n",
    "sns.countplot(x=bbc.category)"
   ]
  },
  {
   "cell_type": "code",
   "execution_count": 4,
   "id": "electronic-illinois",
   "metadata": {},
   "outputs": [],
   "source": [
    "X_train, X_test, y_train, y_test = train_test_split(bbc.text, bbc.category, test_size = 0.2, random_state = 1)"
   ]
  },
  {
   "cell_type": "markdown",
   "id": "royal-syntax",
   "metadata": {},
   "source": [
    "Dataset divied  as features and labels. Also splitted as %80 train and %20 test. Since we used random_state we can get the same train-test data always."
   ]
  },
  {
   "cell_type": "code",
   "execution_count": 5,
   "id": "aquatic-slovak",
   "metadata": {},
   "outputs": [],
   "source": [
    "class LemmaTokenizer(object):\n",
    "    def __init__(self):\n",
    "        self.wnl = WordNetLemmatizer()\n",
    "    def __call__(self, articles):\n",
    "        return [self.wnl.lemmatize(t) for t in word_tokenize(articles)]"
   ]
  },
  {
   "cell_type": "markdown",
   "id": "scientific-baptist",
   "metadata": {},
   "source": [
    "We created our custom class to tokenization an lemmatization process."
   ]
  },
  {
   "cell_type": "code",
   "execution_count": 6,
   "id": "periodic-equipment",
   "metadata": {},
   "outputs": [],
   "source": [
    "tf_vectorizer = CountVectorizer(tokenizer=LemmaTokenizer(),\n",
    "                                strip_accents = 'unicode',\n",
    "                                stop_words = 'english',\n",
    "                                lowercase = True,\n",
    "                                max_df = 0.5,\n",
    "                                min_df = 10)"
   ]
  },
  {
   "cell_type": "markdown",
   "id": "previous-market",
   "metadata": {},
   "source": [
    "We are creating our CountVectorizer with our custom LemmaTokenizer and paramaters.\n",
    "- Divide sentences into words\n",
    "- Removed stop words, numbers, punctuation, special characters\n",
    "- Lemmatization(Lemma means base form of a word.)\n",
    "\n",
    "**max_df** is used for removing terms that appear too frequently, also known as \"corpus-specific stop words\". For example:\n",
    "\n",
    "**max_df** = 0.50 means \"ignore terms that appear in more than 50% of the documents\".\n",
    "**max_df** = 25 means \"ignore terms that appear in more than 25 documents\".\n",
    "The default max_df is 1.0, which means \"ignore terms that appear in more than 100% of the documents\". Thus, the default setting does not ignore any terms.\n",
    "\n",
    "**min_df** is used for removing terms that appear too infrequently. For example:\n",
    "\n",
    "**min_df** = 0.01 means \"ignore terms that appear in less than 1% of the documents\".\n",
    "**min_df** = 5 means \"ignore terms that appear in less than 5 documents\"."
   ]
  },
  {
   "cell_type": "code",
   "execution_count": 7,
   "id": "bizarre-spotlight",
   "metadata": {
    "scrolled": true
   },
   "outputs": [
    {
     "name": "stderr",
     "output_type": "stream",
     "text": [
      "c:\\users\\recep\\appdata\\local\\programs\\python\\python38\\lib\\site-packages\\sklearn\\feature_extraction\\text.py:489: UserWarning: The parameter 'token_pattern' will not be used since 'tokenizer' is not None'\n",
      "  warnings.warn(\"The parameter 'token_pattern' will not be used\"\n",
      "c:\\users\\recep\\appdata\\local\\programs\\python\\python38\\lib\\site-packages\\sklearn\\feature_extraction\\text.py:388: UserWarning: Your stop_words may be inconsistent with your preprocessing. Tokenizing the stop words generated tokens ['ha', 'le', 'u', 'wa'] not in stop_words.\n",
      "  warnings.warn('Your stop_words may be inconsistent with '\n"
     ]
    },
    {
     "data": {
      "text/plain": [
       "CountVectorizer(max_df=0.5, min_df=10, stop_words='english',\n",
       "                strip_accents='unicode',\n",
       "                tokenizer=<__main__.LemmaTokenizer object at 0x00000226B0E25670>)"
      ]
     },
     "execution_count": 7,
     "metadata": {},
     "output_type": "execute_result"
    }
   ],
   "source": [
    "tf_vectorizer.fit(X_train)"
   ]
  },
  {
   "cell_type": "markdown",
   "id": "hungry-myrtle",
   "metadata": {},
   "source": [
    "We trained our CountVectorizer with our training data."
   ]
  },
  {
   "cell_type": "code",
   "execution_count": 8,
   "id": "copyrighted-stone",
   "metadata": {},
   "outputs": [
    {
     "name": "stdout",
     "output_type": "stream",
     "text": [
      "  (0, 7)\t5\n",
      "  (0, 13)\t1\n",
      "  (0, 19)\t1\n",
      "  (0, 86)\t2\n",
      "  (0, 123)\t1\n",
      "  (0, 162)\t1\n",
      "  (0, 194)\t1\n",
      "  (0, 197)\t1\n",
      "  (0, 220)\t1\n",
      "  (0, 245)\t1\n",
      "  (0, 260)\t1\n",
      "  (0, 299)\t1\n",
      "  (0, 308)\t1\n",
      "  (0, 324)\t1\n",
      "  (0, 387)\t1\n",
      "  (0, 529)\t1\n",
      "  (0, 534)\t3\n",
      "  (0, 555)\t1\n",
      "  (0, 562)\t1\n",
      "  (0, 580)\t2\n",
      "  (0, 613)\t1\n",
      "  (0, 614)\t1\n",
      "  (0, 664)\t2\n",
      "  (0, 679)\t1\n",
      "  (0, 691)\t1\n",
      "  :\t:\n",
      "  (0, 4071)\t1\n",
      "  (0, 4075)\t1\n",
      "  (0, 4087)\t1\n",
      "  (0, 4111)\t1\n",
      "  (0, 4112)\t1\n",
      "  (0, 4125)\t3\n",
      "  (0, 4151)\t1\n",
      "  (0, 4179)\t1\n",
      "  (0, 4189)\t2\n",
      "  (0, 4190)\t1\n",
      "  (0, 4192)\t2\n",
      "  (0, 4194)\t1\n",
      "  (0, 4222)\t1\n",
      "  (0, 4240)\t2\n",
      "  (0, 4241)\t1\n",
      "  (0, 4266)\t1\n",
      "  (0, 4267)\t1\n",
      "  (0, 4282)\t2\n",
      "  (0, 4306)\t1\n",
      "  (0, 4307)\t1\n",
      "  (0, 4335)\t1\n",
      "  (0, 4342)\t1\n",
      "  (0, 4356)\t1\n",
      "  (0, 4361)\t1\n",
      "  (0, 4379)\t1\n"
     ]
    }
   ],
   "source": [
    "X_transformed = tf_vectorizer.transform(X_train)\n",
    "X_test_transformed = tf_vectorizer.transform(X_test)\n",
    "print(X_transformed[0])"
   ]
  },
  {
   "cell_type": "markdown",
   "id": "statewide-resident",
   "metadata": {},
   "source": [
    "We vectorized our training and test features."
   ]
  },
  {
   "cell_type": "code",
   "execution_count": 9,
   "id": "several-blackberry",
   "metadata": {},
   "outputs": [],
   "source": [
    "accuracy={'MNB':0,'SVC':0}\n",
    "log_loss={'MNB':0,'SVC':0}\n",
    "f1={'MNB':0,'SVC':0}"
   ]
  },
  {
   "cell_type": "markdown",
   "id": "higher-finnish",
   "metadata": {},
   "source": [
    "We created these dictionaries for saving different classification metric scores."
   ]
  },
  {
   "cell_type": "code",
   "execution_count": 10,
   "id": "intellectual-horizon",
   "metadata": {},
   "outputs": [],
   "source": [
    "clf_models={\n",
    "            'MNB':MultinomialNB(),\n",
    "            'SVC':SVC(decision_function_shape='ovo')\n",
    "           }"
   ]
  },
  {
   "cell_type": "markdown",
   "id": "piano-tennis",
   "metadata": {},
   "source": [
    "We created our classifier."
   ]
  },
  {
   "cell_type": "code",
   "execution_count": 11,
   "id": "living-specific",
   "metadata": {},
   "outputs": [
    {
     "data": {
      "image/png": "[encoded data removed]",
      "text/plain": [
       "<Figure size 432x288 with 2 Axes>"
      ]
     },
     "metadata": {
      "needs_background": "light"
     },
     "output_type": "display_data"
    },
    {
     "data": {
      "image/png": "[encoded data removed]",
      "text/plain": [
       "<Figure size 432x288 with 2 Axes>"
      ]
     },
     "metadata": {
      "needs_background": "light"
     },
     "output_type": "display_data"
    }
   ],
   "source": [
    "for key in clf_models.keys():\n",
    "    clf=clf_models[key]\n",
    "    clf.fit(X_transformed, y_train)\n",
    "    y_pred = clf.predict(X_test_transformed)\n",
    "    \n",
    "    cnf_matrix=metrics.confusion_matrix(y_test,y_pred)\n",
    "    labels = [0, 1]\n",
    "    fig, ax = plt.subplots()\n",
    "    tick_marks = np.arange(len(labels))\n",
    "    plt.xticks(tick_marks, labels)\n",
    "    plt.yticks(tick_marks, labels)\n",
    "    sns.heatmap(pd.DataFrame(cnf_matrix), annot=True, cmap=\"YlGnBu\", fmt='g')\n",
    "    ax.xaxis.set_label_position(\"bottom\")\n",
    "    plt.title(key+' Confusion matrix')\n",
    "    plt.ylabel('True')\n",
    "    plt.xlabel('Predicted')\n",
    "\n",
    "    accuracy[key]=metrics.accuracy_score(y_test,y_pred)\n",
    "    f1[key]=metrics.f1_score(y_test,y_pred,average='macro')\n",
    "    log_loss[key]=metrics.accuracy_score(y_test,y_pred)"
   ]
  },
  {
   "cell_type": "markdown",
   "id": "experienced-badge",
   "metadata": {},
   "source": [
    "We trained our different classifiers, calculated their classification metric scores and created our heatmaps."
   ]
  },
  {
   "cell_type": "code",
   "execution_count": 12,
   "id": "cooked-backing",
   "metadata": {},
   "outputs": [
    {
     "name": "stdout",
     "output_type": "stream",
     "text": [
      "Accuracy:  {'MNB': 0.9865168539325843, 'SVC': 0.9820224719101124}\n",
      "F1 Score:  {'MNB': 0.9869081517504291, 'SVC': 0.9803682082069216}\n",
      "Logarithmic Loss:  {'MNB': 0.9865168539325843, 'SVC': 0.9820224719101124}\n"
     ]
    }
   ],
   "source": [
    "print(\"Accuracy: \", accuracy)\n",
    "print(\"F1 Score: \", f1)\n",
    "print(\"Logarithmic Loss: \", log_loss)"
   ]
  },
  {
   "cell_type": "markdown",
   "id": "presidential-payday",
   "metadata": {},
   "source": [
    "Printing different classification metric scores."
   ]
  },
  {
   "cell_type": "code",
   "execution_count": 13,
   "id": "collectible-carnival",
   "metadata": {},
   "outputs": [],
   "source": [
    "def Plot(p_metric,p_values):    \n",
    "    columns=p_values.keys()\n",
    "    values=list(p_values.values())\n",
    "    y_pos = np.arange(len(columns))\n",
    "\n",
    "    plt.bar(y_pos, values, align='center', alpha=0.5,color=[\"red\",\"blue\"])\n",
    "    plt.xticks(y_pos, columns)\n",
    "    title=p_metric+' Score'\n",
    "    plt.title(title)\n",
    "    \n",
    "    plt.figtext(0.5, 0.001, str(p_values), ha=\"center\", fontsize=16)\n",
    "    plt.show()"
   ]
  },
  {
   "cell_type": "markdown",
   "id": "healthy-dividend",
   "metadata": {},
   "source": [
    "Function to plot different metric scores."
   ]
  },
  {
   "cell_type": "code",
   "execution_count": 14,
   "id": "emotional-trust",
   "metadata": {},
   "outputs": [
    {
     "data": {
      "image/png": "[encoded data removed]",
      "text/plain": [
       "<Figure size 432x288 with 1 Axes>"
      ]
     },
     "metadata": {
      "needs_background": "light"
     },
     "output_type": "display_data"
    },
    {
     "data": {
      "image/png": "[encoded data removed]",
      "text/plain": [
       "<Figure size 432x288 with 1 Axes>"
      ]
     },
     "metadata": {
      "needs_background": "light"
     },
     "output_type": "display_data"
    },
    {
     "data": {
      "image/png": "[encoded data removed]",
      "text/plain": [
       "<Figure size 432x288 with 1 Axes>"
      ]
     },
     "metadata": {
      "needs_background": "light"
     },
     "output_type": "display_data"
    }
   ],
   "source": [
    "Plot(\"f1\",f1)\n",
    "Plot(\"Accuracy\",accuracy)\n",
    "Plot(\"Logarithmic Loss\",log_loss)"
   ]
  },
  {
   "cell_type": "markdown",
   "id": "allied-jimmy",
   "metadata": {},
   "source": [
    "As we can see above MNB gives us slightly better results."
   ]
  }
 ],
 "metadata": {
  "kernelspec": {
   "display_name": "Python 3",
   "language": "python",
   "name": "python3"
  },
  "language_info": {
   "codemirror_mode": {
    "name": "ipython",
    "version": 3
   },
   "file_extension": ".py",
   "mimetype": "text/x-python",
   "name": "python",
   "nbconvert_exporter": "python",
   "pygments_lexer": "ipython3",
   "version": "3.8.7"
  }
 },
 "nbformat": 4,
 "nbformat_minor": 5
}
